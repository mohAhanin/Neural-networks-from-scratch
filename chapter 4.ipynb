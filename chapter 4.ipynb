{
 "cells": [
  {
   "cell_type": "code",
   "execution_count": 1,
   "id": "1a0772ed",
   "metadata": {},
   "outputs": [
    {
     "data": {
      "text/plain": [
       "[0, 2, -1, 3.3, -2.7, 1.1, 2.2, -100]"
      ]
     },
     "execution_count": 1,
     "metadata": {},
     "output_type": "execute_result"
    }
   ],
   "source": [
    "inputs = [ 0 , 2 , - 1 , 3.3 , - 2.7 , 1.1 , 2.2 , - 100 ]\n",
    "inputs "
   ]
  },
  {
   "cell_type": "markdown",
   "id": "0724e54e",
   "metadata": {},
   "source": [
    "# Relu"
   ]
  },
  {
   "cell_type": "code",
   "execution_count": 2,
   "id": "5247c4f5",
   "metadata": {},
   "outputs": [
    {
     "name": "stdout",
     "output_type": "stream",
     "text": [
      "[0, 2, 0, 3.3, 0, 1.1, 2.2, 0]\n"
     ]
    }
   ],
   "source": [
    "output = []\n",
    "for i in inputs:\n",
    "    if i > 0 :\n",
    "        output.append(i)\n",
    "    else :\n",
    "        output.append( 0 )\n",
    "print (output)"
   ]
  },
  {
   "cell_type": "markdown",
   "id": "539320b4",
   "metadata": {},
   "source": [
    "# Relu"
   ]
  },
  {
   "cell_type": "code",
   "execution_count": 3,
   "id": "69177e38",
   "metadata": {},
   "outputs": [
    {
     "name": "stdout",
     "output_type": "stream",
     "text": [
      "[0, 2, 0, 3.3, 0, 1.1, 2.2, 0]\n"
     ]
    }
   ],
   "source": [
    "output = []\n",
    "for i in inputs:\n",
    "    output.append( max ( 0 , i))\n",
    "print (output)"
   ]
  },
  {
   "cell_type": "markdown",
   "id": "0ab772bc",
   "metadata": {},
   "source": [
    "# Relu"
   ]
  },
  {
   "cell_type": "code",
   "execution_count": 4,
   "id": "a60af13a",
   "metadata": {},
   "outputs": [
    {
     "name": "stdout",
     "output_type": "stream",
     "text": [
      "[0.  2.  0.  3.3 0.  1.1 2.2 0. ]\n"
     ]
    }
   ],
   "source": [
    "import numpy as np\n",
    "inputs = [ 0 , 2 , - 1 , 3.3 , - 2.7 , 1.1 , 2.2 , - 100 ]\n",
    "output = np.maximum( 0 , inputs)\n",
    "print (output)"
   ]
  },
  {
   "cell_type": "markdown",
   "id": "1af37fff",
   "metadata": {},
   "source": [
    "# Relu"
   ]
  },
  {
   "cell_type": "code",
   "execution_count": 5,
   "id": "2a67b04f",
   "metadata": {},
   "outputs": [],
   "source": [
    "class Activation_ReLU :\n",
    "    # Forward pass\n",
    "    def forward ( self , inputs ):\n",
    "        # Calculate output values from input\n",
    "        self.output = np.maximum( 0 , inputs)"
   ]
  },
  {
   "cell_type": "code",
   "execution_count": 6,
   "id": "f6fcb120",
   "metadata": {},
   "outputs": [],
   "source": [
    "import numpy as np\n",
    "import nnfs\n",
    "from nnfs.datasets import spiral_data\n",
    "\n",
    "class Activation_ReLU :\n",
    "    # Forward pass\n",
    "    def forward ( self , inputs ):\n",
    "        # Calculate output values from input\n",
    "        self.output = np.maximum( 0 , inputs)\n",
    "class Layer_Dense:\n",
    "    def __init__(self,n_inputs,n_neurons):\n",
    "        self.weights = 0.01 * np.random.randn(n_inputs,n_neurons)\n",
    "        self.biases  = np.zeros((1,n_neurons))\n",
    "    def forward(self,inputs):\n",
    "        self.output = np.dot(inputs,self.weights)+self.biases"
   ]
  },
  {
   "cell_type": "code",
   "execution_count": 7,
   "id": "add1f38a",
   "metadata": {},
   "outputs": [],
   "source": [
    "nnfs.init()"
   ]
  },
  {
   "cell_type": "code",
   "execution_count": 8,
   "id": "15d17870",
   "metadata": {},
   "outputs": [],
   "source": [
    "X, y = spiral_data(samples=100,classes=3)"
   ]
  },
  {
   "cell_type": "code",
   "execution_count": 9,
   "id": "775adf65",
   "metadata": {},
   "outputs": [],
   "source": [
    "dense1 = Layer_Dense( 2 , 3 )"
   ]
  },
  {
   "cell_type": "code",
   "execution_count": 10,
   "id": "40ac62a2",
   "metadata": {},
   "outputs": [],
   "source": [
    "activation1 = Activation_ReLU()"
   ]
  },
  {
   "cell_type": "code",
   "execution_count": 11,
   "id": "409486cb",
   "metadata": {},
   "outputs": [],
   "source": [
    "dense1.forward(X)"
   ]
  },
  {
   "cell_type": "code",
   "execution_count": 12,
   "id": "c004a2e4",
   "metadata": {},
   "outputs": [],
   "source": [
    "activation1.forward(dense1.output)"
   ]
  },
  {
   "cell_type": "code",
   "execution_count": 13,
   "id": "9dddfb77",
   "metadata": {},
   "outputs": [
    {
     "name": "stdout",
     "output_type": "stream",
     "text": [
      "[[0.         0.         0.        ]\n",
      " [0.         0.00011395 0.        ]\n",
      " [0.         0.00031729 0.        ]\n",
      " [0.         0.00052666 0.        ]\n",
      " [0.         0.00071401 0.        ]]\n"
     ]
    }
   ],
   "source": [
    "print (activation1.output[: 5])"
   ]
  },
  {
   "cell_type": "code",
   "execution_count": 14,
   "id": "ab777667",
   "metadata": {},
   "outputs": [],
   "source": [
    "layer_outpusts = [4.8,1.21,2.385]"
   ]
  },
  {
   "cell_type": "code",
   "execution_count": 15,
   "id": "1964eb94",
   "metadata": {},
   "outputs": [],
   "source": [
    "E = 2.71828182846"
   ]
  },
  {
   "cell_type": "code",
   "execution_count": 16,
   "id": "246bb570",
   "metadata": {},
   "outputs": [
    {
     "name": "stdout",
     "output_type": "stream",
     "text": [
      "exponentiated values:\n",
      "[121.51041751893969, 3.3534846525504487, 10.85906266492961]\n"
     ]
    }
   ],
   "source": [
    "exp_values = []\n",
    "for output in layer_outpusts:\n",
    "    exp_values.append(E**output)\n",
    "print('exponentiated values:')\n",
    "print(exp_values)"
   ]
  },
  {
   "cell_type": "code",
   "execution_count": 17,
   "id": "33535e34",
   "metadata": {},
   "outputs": [
    {
     "name": "stdout",
     "output_type": "stream",
     "text": [
      "normalized exponentiated values:\n",
      "[0.8952826639573506, 0.024708306782070668, 0.08000902926057876]\n",
      "sum of normalized values: 1.0\n"
     ]
    }
   ],
   "source": [
    "norm_base = sum(exp_values)\n",
    "norm_values = []\n",
    "for value in exp_values:\n",
    "    norm_values.append(value/norm_base)\n",
    "print('normalized exponentiated values:')\n",
    "print(norm_values)\n",
    "print('sum of normalized values:',sum(norm_values))"
   ]
  },
  {
   "cell_type": "code",
   "execution_count": 18,
   "id": "f783b778",
   "metadata": {},
   "outputs": [],
   "source": [
    "import numpy as np"
   ]
  },
  {
   "cell_type": "code",
   "execution_count": 19,
   "id": "3ce889b9",
   "metadata": {},
   "outputs": [
    {
     "name": "stdout",
     "output_type": "stream",
     "text": [
      "exponentiated values :\n",
      "[121.51041752   3.35348465  10.85906266]\n"
     ]
    }
   ],
   "source": [
    "layer_outputs = [4.8,1.21,2.385]\n",
    "exp_values = np.exp(layer_outputs)\n",
    "print('exponentiated values :')\n",
    "print(exp_values)"
   ]
  },
  {
   "cell_type": "code",
   "execution_count": 20,
   "id": "e5726e25",
   "metadata": {},
   "outputs": [
    {
     "name": "stdout",
     "output_type": "stream",
     "text": [
      "normalized\n",
      "[0.89528266 0.02470831 0.08000903]\n",
      "sum of normalized values: 0.9999999999999999\n"
     ]
    }
   ],
   "source": [
    "norm_values = exp_values/np.sum(exp_values)\n",
    "print(\"normalized\")\n",
    "print(norm_values)\n",
    "print ( 'sum of normalized values:' , np.sum(norm_values))"
   ]
  },
  {
   "cell_type": "code",
   "execution_count": null,
   "id": "1180265f",
   "metadata": {},
   "outputs": [],
   "source": []
  }
 ],
 "metadata": {
  "kernelspec": {
   "display_name": "Python 3 (ipykernel)",
   "language": "python",
   "name": "python3"
  },
  "language_info": {
   "codemirror_mode": {
    "name": "ipython",
    "version": 3
   },
   "file_extension": ".py",
   "mimetype": "text/x-python",
   "name": "python",
   "nbconvert_exporter": "python",
   "pygments_lexer": "ipython3",
   "version": "3.11.3"
  }
 },
 "nbformat": 4,
 "nbformat_minor": 5
}

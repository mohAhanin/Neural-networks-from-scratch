{
 "cells": [
  {
   "cell_type": "markdown",
   "id": "2ee3f17e",
   "metadata": {},
   "source": [
    "# A Single Neuron"
   ]
  },
  {
   "cell_type": "code",
   "execution_count": 1,
   "id": "b8c2265e",
   "metadata": {},
   "outputs": [
    {
     "data": {
      "text/plain": [
       "4.8"
      ]
     },
     "execution_count": 1,
     "metadata": {},
     "output_type": "execute_result"
    }
   ],
   "source": [
    "import numpy as np\n",
    "inputs = [1,2,3,2.5]\n",
    "weights = [0.2,0.8,-0.5,1.0]\n",
    "bias = 2\n",
    "output = np.dot(inputs,weights)+bias \n",
    "output"
   ]
  },
  {
   "cell_type": "markdown",
   "id": "21ae94a1",
   "metadata": {},
   "source": [
    "# A Layer of Neurons with Numpy"
   ]
  },
  {
   "cell_type": "code",
   "execution_count": 2,
   "id": "2c43d865",
   "metadata": {},
   "outputs": [
    {
     "data": {
      "text/plain": [
       "array([4.8  , 1.21 , 2.385])"
      ]
     },
     "execution_count": 2,
     "metadata": {},
     "output_type": "execute_result"
    }
   ],
   "source": [
    "import numpy as np\n",
    "inputs = [1,2,3,2.5]\n",
    "weights = [ [0.2,0.8,-0.5,1],\n",
    "            [0.5,-0.91,0.26,-0.5],\n",
    "            [-0.26,-0.27,0.17,0.87]\n",
    "          ]\n",
    "biases = [2,3,0.5]\n",
    "layer_outputs = np.dot(weights,inputs)+biases\n",
    "layer_outputs"
   ]
  },
  {
   "cell_type": "markdown",
   "id": "8a47d07c",
   "metadata": {},
   "source": [
    "# A Batch of Data"
   ]
  },
  {
   "cell_type": "code",
   "execution_count": 3,
   "id": "adebb3ff",
   "metadata": {},
   "outputs": [],
   "source": [
    "inputs = [[1,2,3,2.5],[2,5,-1,2],[-1.5,2.7,3.3,-0.8]]"
   ]
  },
  {
   "cell_type": "markdown",
   "id": "c0483605",
   "metadata": {},
   "source": [
    "# Matrix Product"
   ]
  },
  {
   "cell_type": "code",
   "execution_count": 4,
   "id": "13eb45fb",
   "metadata": {},
   "outputs": [
    {
     "data": {
      "text/plain": [
       "array([[1, 2, 3]])"
      ]
     },
     "execution_count": 4,
     "metadata": {},
     "output_type": "execute_result"
    }
   ],
   "source": [
    "a = [1,2,3]\n",
    "np.array([a])\n"
   ]
  },
  {
   "cell_type": "code",
   "execution_count": 5,
   "id": "34bf6dea",
   "metadata": {},
   "outputs": [
    {
     "data": {
      "text/plain": [
       "array([[1, 2, 3]])"
      ]
     },
     "execution_count": 5,
     "metadata": {},
     "output_type": "execute_result"
    }
   ],
   "source": [
    "np.expand_dims(np.array(a),axis = 0)"
   ]
  },
  {
   "cell_type": "code",
   "execution_count": 6,
   "id": "d4be0462",
   "metadata": {},
   "outputs": [
    {
     "data": {
      "text/plain": [
       "array([[20]])"
      ]
     },
     "execution_count": 6,
     "metadata": {},
     "output_type": "execute_result"
    }
   ],
   "source": [
    "a = [1,2,3]\n",
    "b = [2,3,4]\n",
    "a = np.array([a])\n",
    "b = np.array([b]).T\n",
    "np.dot(a,b)"
   ]
  },
  {
   "cell_type": "markdown",
   "id": "d3421b08",
   "metadata": {},
   "source": [
    "# A Layer of Neurons & Batch of Data w/Numpy"
   ]
  },
  {
   "cell_type": "code",
   "execution_count": 7,
   "id": "e808fc9f",
   "metadata": {},
   "outputs": [
    {
     "data": {
      "text/plain": [
       "array([[ 4.8  ,  1.21 ,  2.385],\n",
       "       [ 8.9  , -1.81 ,  0.2  ],\n",
       "       [ 1.41 ,  1.051,  0.026]])"
      ]
     },
     "execution_count": 7,
     "metadata": {},
     "output_type": "execute_result"
    }
   ],
   "source": [
    "inputs = [[1,2,3,2.5],[2,5,-1,2],[-1.5,2.7,3.3,-0.8]]\n",
    "weights = [[0.2,0.8,-0.5,1],\n",
    "            [0.5,-0.91,0.26,-0.5],\n",
    "            [-0.26,-0.27,0.17,0.87]]\n",
    "biases = [2,3,0.5]\n",
    "outputs = np.dot(inputs,np.array(weights).T)+biases\n",
    "outputs"
   ]
  },
  {
   "cell_type": "code",
   "execution_count": null,
   "id": "83829d1b",
   "metadata": {},
   "outputs": [],
   "source": []
  }
 ],
 "metadata": {
  "kernelspec": {
   "display_name": "Python 3 (ipykernel)",
   "language": "python",
   "name": "python3"
  },
  "language_info": {
   "codemirror_mode": {
    "name": "ipython",
    "version": 3
   },
   "file_extension": ".py",
   "mimetype": "text/x-python",
   "name": "python",
   "nbconvert_exporter": "python",
   "pygments_lexer": "ipython3",
   "version": "3.11.3"
  }
 },
 "nbformat": 4,
 "nbformat_minor": 5
}
